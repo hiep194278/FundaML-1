{
 "cells": [
  {
   "cell_type": "code",
   "execution_count": 1,
   "metadata": {},
   "outputs": [],
   "source": [
    "import numpy as np\n",
    "import os\n",
    "from nltk.stem.porter import PorterStemmer\n",
    "from nltk.corpus import stopwords\n",
    "import re\n",
    "from collections import defaultdict"
   ]
  },
  {
   "cell_type": "markdown",
   "metadata": {},
   "source": [
    "# Preprocessing"
   ]
  },
  {
   "cell_type": "markdown",
   "metadata": {},
   "source": [
    "## Read and gather data"
   ]
  },
  {
   "cell_type": "code",
   "execution_count": 12,
   "metadata": {},
   "outputs": [],
   "source": [
    "def gather_20newsgroups_data():\n",
    "    path = '../datasets/20news-bydate/'\n",
    "    dirs = [path + dir_name + '/' \n",
    "            for dir_name in os.listdir(path)\n",
    "            if not os.path.isfile(path + dir_name)]\n",
    "\n",
    "    train_dir, test_dir = (dirs[0], dirs[1]) if 'train' in dirs[0] else (dirs[1], dirs[0])\n",
    "    print('Train directory:', train_dir)\n",
    "\n",
    "    list_newsgroups = [newsgroup for newsgroup in os.listdir(train_dir)]\n",
    "    list_newsgroups.sort()\n",
    "    print(\"News groups list:\", list_newsgroups)\n",
    "\n",
    "    stop_words = set(stopwords.words('english'))\n",
    "    # stop_words.update(['.', ',', '\"', \"'\", '?', '!', ':', ';', '(', ')', '[', ']', '{', '}','-']) # remove it if you need punctuation\n",
    "    stemmer = PorterStemmer()\n",
    "\n",
    "    def collect_data_from(parent_dir, newsgroup_list):\n",
    "        data = []\n",
    "\n",
    "        for group_id, newsgroup in enumerate(newsgroup_list):\n",
    "            label = group_id\n",
    "            dir_path = parent_dir + '/' + newsgroup + '/'\n",
    "            files = [(filename, dir_path + filename) \n",
    "                      for filename in os.listdir(dir_path)\n",
    "                      if os.path.isfile(dir_path + filename)]\n",
    "            files.sort()\n",
    "\n",
    "            for filename, filepath in files:\n",
    "                with open(filepath) as f:\n",
    "                    text = f.read().lower()\n",
    "\n",
    "                    # Remove stop words and stem remaining words\n",
    "                    # \\W+: non-word characters\n",
    "                    words = [stemmer.stem(word)\n",
    "                             for word in re.split('\\W+', text)\n",
    "                             if word not in stop_words]\n",
    "\n",
    "                    # Combine remaining words\n",
    "                    content = ' '.join(words)\n",
    "                    assert len(content.splitlines()) == 1\n",
    "                    data.append(str(label) + '<fff>' + filename + '<fff>' + content)\n",
    "\n",
    "        return data\n",
    "\n",
    "    train_data = collect_data_from(\n",
    "        parent_dir=train_dir,\n",
    "        newsgroup_list=list_newsgroups\n",
    "    )\n",
    "\n",
    "    test_data = collect_data_from(\n",
    "        parent_dir=test_dir,\n",
    "        newsgroup_list=list_newsgroups\n",
    "    )\n",
    "\n",
    "    full_data = train_data + test_data\n",
    "\n",
    "    with open(path + '20news-train-processed.txt', 'w') as f:\n",
    "        f.write('\\n'.join(train_data))\n",
    "\n",
    "    with open(path + '20news-test-processed.txt', 'w') as f:\n",
    "        f.write('\\n'.join(test_data))\n",
    "\n",
    "    with open(path + '20news-full-processed.txt', 'w') as f:\n",
    "        f.write('\\n'.join(full_data))\n",
    "\n",
    "    return"
   ]
  },
  {
   "cell_type": "code",
   "execution_count": 13,
   "metadata": {},
   "outputs": [
    {
     "name": "stdout",
     "output_type": "stream",
     "text": [
      "Train directory: ../datasets/20news-bydate/20news-bydate-train/\n",
      "News groups list: ['alt.atheism', 'comp.graphics', 'comp.os.ms-windows.misc', 'comp.sys.ibm.pc.hardware', 'comp.sys.mac.hardware', 'comp.windows.x', 'misc.forsale', 'rec.autos', 'rec.motorcycles', 'rec.sport.baseball', 'rec.sport.hockey', 'sci.crypt', 'sci.electronics', 'sci.med', 'sci.space', 'soc.religion.christian', 'talk.politics.guns', 'talk.politics.mideast', 'talk.politics.misc', 'talk.religion.misc']\n"
     ]
    }
   ],
   "source": [
    "gather_20newsgroups_data()"
   ]
  },
  {
   "cell_type": "markdown",
   "metadata": {},
   "source": [
    "## Create vocabulary with IDF values"
   ]
  },
  {
   "cell_type": "code",
   "execution_count": 7,
   "metadata": {},
   "outputs": [],
   "source": [
    "def generate_vocabulary(data_path):\n",
    "    def compute_idf(df, corpus_size):\n",
    "        assert df > 0\n",
    "        idf_value = np.log10(corpus_size * 1. / df)\n",
    "\n",
    "        return idf_value\n",
    "\n",
    "    with open(data_path) as f:\n",
    "        lines = f.read().splitlines() # 1 line = 1 document\n",
    "    \n",
    "    # Use defaultdict to create a vocabulary\n",
    "    # defaultdict never raises KeyError, \n",
    "    # provides a default value for the key that doesn't exist\n",
    "    doc_count = defaultdict(int)\n",
    "    corpus_size = len(lines)\n",
    "    path = '../datasets/20news-bydate/'\n",
    "\n",
    "    for line in lines:\n",
    "        features = line.split('<fff>')\n",
    "        text = features[-1]\n",
    "        words = list(set(text.split()))\n",
    "        for word in words:\n",
    "            doc_count[word] += 1\n",
    "\n",
    "    words_idfs = [(word, compute_idf(document_freq, corpus_size))\n",
    "                  for word, document_freq in \n",
    "                  zip(doc_count.keys(), doc_count.values())\n",
    "                  if document_freq > 10 and not word.isdigit()]    \n",
    "\n",
    "    words_idfs.sort(key=lambda word: -word[1])\n",
    "\n",
    "    print('Vocabulary size: {}'.format(len(words_idfs)))   \n",
    "    with open(path + 'words_idfs.txt', 'w') as f:\n",
    "        f.write('\\n'.join([word + '<fff>' + str(idf) for word, idf in words_idfs])) \n",
    "\n",
    "    return"
   ]
  },
  {
   "cell_type": "code",
   "execution_count": 8,
   "metadata": {},
   "outputs": [
    {
     "name": "stdout",
     "output_type": "stream",
     "text": [
      "Vocabulary size: 14212\n"
     ]
    }
   ],
   "source": [
    "generate_vocabulary('../datasets/20news-bydate/20news-train-processed.txt')"
   ]
  },
  {
   "cell_type": "markdown",
   "metadata": {},
   "source": [
    "## Compute TF-IDF"
   ]
  },
  {
   "cell_type": "code",
   "execution_count": null,
   "metadata": {},
   "outputs": [],
   "source": [
    "def get_tf_idf(data_path):\n",
    "    # get pre_computed data idf values\n",
    "    with open('..datasets/20news-bydate/words_idfs.txt', 'r') as f:\n",
    "        words_idfs = [(line.split('<fff>')[0], float(line.split('<fff>')[1]))\n",
    "                      for line in f.read().splitlines()]\n",
    "        word_IDs = dict([(word, index) for\n",
    "                         index, (word, idf) in enumerate(words_idfs)])\n",
    "        idfs = dict(words_idfs)\n",
    "\n",
    "    with open(data_path, 'r') as f:\n",
    "        documents = [\n",
    "            (int(line.split('<fff>')[0]),\n",
    "             int(line.split('<fff>')[1]),\n",
    "             line.split('<fff>')[2])\n",
    "             for line in f.read().splitlines()\n",
    "        ]\n",
    "\n",
    "        data_tf_idf = []\n",
    "\n",
    "        for document in documents:\n",
    "            label, doc_id, text = document\n",
    "            words = [word for word in text.split() if word in idfs]\n",
    "            word_set = list(set(words))\n",
    "            max_term_freq = max([words.count(word) for word in word_set])\n",
    "            words_tfidfs = []\n",
    "            sum_squares = 0.0\n",
    "            for word in word_set:\n",
    "                term_freq = words.count(word)\n",
    "                tf_idf_value = term_freq * 1. / max_term_freq * idfs[word]\n",
    "                words_tfidfs.append((word_IDs[word], tf_idf_value))\n",
    "                sum_squares += tf_idf_value ** 2\n",
    "\n",
    "            words_tfidfs_normalized = [str(index) + ':'\n",
    "                                           + str(tf_idf_value / np.sqrt(sum_squares))\n",
    "                                           for index, tf_idf_value in words_tfidfs]\n",
    "            sparse_rep = ' '.join(words_tfidfs_normalized)\n",
    "            data_tf_idf.append((label, doc_id, sparse_rep))\n",
    "        \n",
    "\n",
    "        \n",
    "       "
   ]
  }
 ],
 "metadata": {
  "interpreter": {
   "hash": "925c48296191328fd63282b32f31d58366fe2156a0e6251ae4d08cd1c8bc0f76"
  },
  "kernelspec": {
   "display_name": "Python 3.10.4 64-bit",
   "language": "python",
   "name": "python3"
  },
  "language_info": {
   "codemirror_mode": {
    "name": "ipython",
    "version": 3
   },
   "file_extension": ".py",
   "mimetype": "text/x-python",
   "name": "python",
   "nbconvert_exporter": "python",
   "pygments_lexer": "ipython3",
   "version": "3.10.4"
  },
  "orig_nbformat": 4
 },
 "nbformat": 4,
 "nbformat_minor": 2
}
